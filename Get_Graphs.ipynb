{
 "cells": [
  {
   "cell_type": "code",
   "execution_count": 1,
   "metadata": {},
   "outputs": [],
   "source": [
    "import matplotlib.pyplot as plt\n",
    "import seaborn as sns\n",
    "import numpy as np\n",
    "sns.set_style(\"darkgrid\")\n",
    "n_of_kernels = 5"
   ]
  },
  {
   "cell_type": "code",
   "execution_count": 79,
   "metadata": {},
   "outputs": [],
   "source": [
    "filename = 'llh_arrays_simulated_sequences_no_negative_mu_eps=0.1_n_of_seq=10_max_jumps=500000_M=7_T=200.0_mu=0.5_method=Nelder-Mead.npz'\n",
    "M = int(filename.split(\"_M=\")[-1].split(\"_\")[0])\n",
    "ar_10 = np.load(filename)\n",
    "ar_50 = np.load('llh_arrays_simulated_sequences_eps=0.1_n_of_seq=10_max_jumps=500000_M=5_T=50.0_mu=0.5.npz')\n",
    "ar_100 = np.load('llh_arrays_simulated_sequences_eps=0.1_n_of_seq=10_max_jumps=500000_M=5_T=100.0_mu=0.5.npz')\n",
    "ar_500 = np.load('llh_arrays_simulated_sequences_eps=0.1_n_of_seq=10_max_jumps=500000_M=5_T=500.0_mu=0.5.npz')"
   ]
  },
  {
   "cell_type": "code",
   "execution_count": 80,
   "metadata": {},
   "outputs": [
    {
     "data": {
      "text/plain": [
       "['llh_GD_EXP',\n",
       " 'llh_GD_EXP_Renorm_alpha',\n",
       " 'llh_GD_EXP_Renorm_beta',\n",
       " 'llh_GD_EXP_Renorm_alphabeta',\n",
       " 'llh_GD_PWL',\n",
       " 'llh_GD_PWL_Renorm_K',\n",
       " 'llh_GD_PWL_Renorm_c',\n",
       " 'llh_GD_PWL_Renorm_p',\n",
       " 'llh_GD_PWL_Renorm_Kc',\n",
       " 'llh_GD_PWL_Renorm_Kp',\n",
       " 'llh_GD_QEXP',\n",
       " 'llh_GD_QEXP_Renorm_a',\n",
       " 'llh_GD_QEXP_Renorm_q',\n",
       " 'llh_GD_QEXP_Renorm_aq',\n",
       " 'llh_GD_RAY',\n",
       " 'llh_GD_RAY_Renorm_gamma',\n",
       " 'llh_GD_RAY_Renorm_eta',\n",
       " 'llh_GD_RAY_Renorm_gammaeta',\n",
       " 'max_EXP_Renorm',\n",
       " 'max_PWL_Renorm',\n",
       " 'max_QEXP_Renorm',\n",
       " 'max_RAY_Renorm',\n",
       " 'llh_GD_GSS',\n",
       " 'llh_GD_GSS_Renorm_kappa',\n",
       " 'llh_GD_GSS_Renorm_tau',\n",
       " 'llh_GD_GSS_Renorm_kappatau',\n",
       " 'max_GSS_Renorm']"
      ]
     },
     "execution_count": 80,
     "metadata": {},
     "output_type": "execute_result"
    }
   ],
   "source": [
    "ar_10.files"
   ]
  },
  {
   "cell_type": "code",
   "execution_count": 81,
   "metadata": {},
   "outputs": [
    {
     "data": {
      "text/plain": [
       "(300,)"
      ]
     },
     "execution_count": 81,
     "metadata": {},
     "output_type": "execute_result"
    }
   ],
   "source": [
    "ar_10['llh_GD_PWL_Renorm_Kc'].shape"
   ]
  },
  {
   "cell_type": "code",
   "execution_count": 82,
   "metadata": {},
   "outputs": [
    {
     "name": "stderr",
     "output_type": "stream",
     "text": [
      "/home/rafael/anaconda3/lib/python3.7/site-packages/ipykernel_launcher.py:25: RuntimeWarning: All-NaN axis encountered\n",
      "/home/rafael/anaconda3/lib/python3.7/site-packages/ipykernel_launcher.py:37: RuntimeWarning: All-NaN axis encountered\n"
     ]
    }
   ],
   "source": [
    "# EXP\n",
    "ar_exp = np.array(ar_10['llh_GD_EXP'])\n",
    "ar_alpha = np.array(ar_10['llh_GD_EXP_Renorm_alpha'])\n",
    "ar_beta = np.array(ar_10['llh_GD_EXP_Renorm_beta'])\n",
    "ar_alphabeta = np.array(ar_10['llh_GD_EXP_Renorm_alphabeta']).reshape(-1,M-1)\n",
    "\n",
    "ar_renorm_exp = np.array([])\n",
    "\n",
    "for i in range(ar_exp.shape[0]):\n",
    "    \n",
    "    ar_renorm_exp = np.append(ar_renorm_exp,np.nanmax([ar_exp[i],ar_alpha[i],ar_beta[i],np.max(ar_alphabeta[i])]))\n",
    "    \n",
    "# PWL\n",
    "ar_pwl = np.array(ar_10['llh_GD_PWL'])\n",
    "ar_K = np.array(ar_10['llh_GD_PWL_Renorm_K'])\n",
    "ar_c = np.array(ar_10['llh_GD_PWL_Renorm_c'])\n",
    "ar_p = np.array(ar_10['llh_GD_PWL_Renorm_p'])\n",
    "ar_Kc = np.array(ar_10['llh_GD_PWL_Renorm_Kc']).reshape(-1,M-1)\n",
    "ar_Kp = np.array(ar_10['llh_GD_PWL_Renorm_Kp']).reshape(-1,M-1)\n",
    "\n",
    "ar_renorm_pwl = np.array([])\n",
    "\n",
    "for i in range(ar_pwl.shape[0]):\n",
    "    \n",
    "    ar_renorm_pwl = np.append(ar_renorm_pwl,np.nanmax([ar_pwl[i],ar_K[i],ar_c[i],ar_p[i],np.max(ar_Kc[i]),np.max(ar_Kp[i])]))\n",
    "    \n",
    "# QEXP\n",
    "ar_qexp = np.array(ar_10['llh_GD_QEXP'])\n",
    "ar_a = np.array(ar_10['llh_GD_QEXP_Renorm_a'])\n",
    "ar_q = np.array(ar_10['llh_GD_QEXP_Renorm_q'])\n",
    "ar_aq = np.array(ar_10['llh_GD_QEXP_Renorm_aq']).reshape(-1,M-1)\n",
    "\n",
    "ar_renorm_qexp = np.array([])\n",
    "\n",
    "for i in range(ar_qexp.shape[0]):\n",
    "    \n",
    "    ar_renorm_qexp = np.append(ar_renorm_qexp,np.nanmax([ar_qexp[i],ar_a[i],ar_q[i],np.max(ar_aq[i])]))\n",
    "    \n",
    "# RAY\n",
    "ar_ray = np.array(ar_10['llh_GD_RAY'])\n",
    "ar_gamma = np.array(ar_10['llh_GD_RAY_Renorm_gamma'])\n",
    "ar_eta = np.array(ar_10['llh_GD_RAY_Renorm_eta'])\n",
    "ar_gammaeta = np.array(ar_10['llh_GD_RAY_Renorm_gammaeta']).reshape(-1,M-1)\n",
    "\n",
    "ar_renorm_ray = np.array([])\n",
    "\n",
    "for i in range(ar_ray.shape[0]):\n",
    "    \n",
    "    ar_renorm_ray = np.append(ar_renorm_ray,np.nanmax([ar_ray[i],ar_gamma[i],ar_eta[i],np.max(ar_gammaeta[i])]))\n",
    "    \n",
    "# RAY\n",
    "ar_gss = np.array(ar_10['llh_GD_GSS'])\n",
    "ar_kappa = np.array(ar_10['llh_GD_GSS_Renorm_kappa'])\n",
    "ar_tau = np.array(ar_10['llh_GD_GSS_Renorm_tau'])\n",
    "ar_kappatau = np.array(ar_10['llh_GD_GSS_Renorm_kappatau']).reshape(-1,M-1)\n",
    "\n",
    "ar_renorm_gss = np.array([])\n",
    "\n",
    "for i in range(ar_gss.shape[0]):\n",
    "    \n",
    "    ar_renorm_gss = np.append(ar_renorm_gss,np.nanmax([ar_gss[i],ar_kappa[i],ar_tau[i],np.max(ar_kappatau[i])]))"
   ]
  },
  {
   "cell_type": "code",
   "execution_count": 83,
   "metadata": {},
   "outputs": [],
   "source": [
    "ar_max_renorm, ar_non_renorm = np.array([]), np.array([])\n",
    "\n",
    "for i in range(ar_renorm_exp.shape[0]):\n",
    "    \n",
    "    ar_max_renorm = np.append(ar_max_renorm,np.nanmax([ar_renorm_exp[i],ar_renorm_pwl[i],ar_renorm_qexp[i],ar_renorm_ray[i],ar_renorm_gss[i]]))\n",
    "    ar_non_renorm = np.append(ar_non_renorm, np.nanmax([ar_exp[i],ar_pwl[i],ar_qexp[i],ar_ray[i],ar_gss[i]]))"
   ]
  },
  {
   "cell_type": "code",
   "execution_count": 84,
   "metadata": {},
   "outputs": [
    {
     "data": {
      "text/plain": [
       "393.1805982166918"
      ]
     },
     "execution_count": 84,
     "metadata": {},
     "output_type": "execute_result"
    }
   ],
   "source": [
    "np.mean(ar_max_renorm - ar_non_renorm)"
   ]
  },
  {
   "cell_type": "code",
   "execution_count": 9,
   "metadata": {},
   "outputs": [],
   "source": [
    "ar_max_renorm = ar_max_renorm[~np.isnan(ar_max_renorm)]\n",
    "ar_max_renorm = ar_max_renorm[np.isfinite(ar_max_renorm)]"
   ]
  },
  {
   "cell_type": "code",
   "execution_count": 10,
   "metadata": {},
   "outputs": [
    {
     "ename": "KeyError",
     "evalue": "'llh_EM__ is not a file in the archive'",
     "output_type": "error",
     "traceback": [
      "\u001b[0;31m---------------------------------------------------------------------------\u001b[0m",
      "\u001b[0;31mKeyError\u001b[0m                                  Traceback (most recent call last)",
      "\u001b[0;32m<ipython-input-10-55966756a07d>\u001b[0m in \u001b[0;36m<module>\u001b[0;34m\u001b[0m\n\u001b[0;32m----> 1\u001b[0;31m \u001b[0mprint\u001b[0m\u001b[0;34m(\u001b[0m\u001b[0mnp\u001b[0m\u001b[0;34m.\u001b[0m\u001b[0mmean\u001b[0m\u001b[0;34m(\u001b[0m\u001b[0mar_max_renorm\u001b[0m\u001b[0;34m[\u001b[0m\u001b[0mar_max_renorm\u001b[0m \u001b[0;34m<\u001b[0m \u001b[0;36m1\u001b[0m\u001b[0;34m/\u001b[0m\u001b[0mnp\u001b[0m\u001b[0;34m.\u001b[0m\u001b[0mfinfo\u001b[0m\u001b[0;34m(\u001b[0m\u001b[0mfloat\u001b[0m\u001b[0;34m)\u001b[0m\u001b[0;34m.\u001b[0m\u001b[0meps\u001b[0m\u001b[0;34m]\u001b[0m\u001b[0;34m)\u001b[0m\u001b[0;34m,\u001b[0m \u001b[0mnp\u001b[0m\u001b[0;34m.\u001b[0m\u001b[0mmean\u001b[0m\u001b[0;34m(\u001b[0m\u001b[0mar_10\u001b[0m\u001b[0;34m[\u001b[0m\u001b[0;34m'llh_EM__'\u001b[0m\u001b[0;34m]\u001b[0m\u001b[0;34m)\u001b[0m\u001b[0;34m,\u001b[0m \u001b[0mnp\u001b[0m\u001b[0;34m.\u001b[0m\u001b[0mmean\u001b[0m\u001b[0;34m(\u001b[0m\u001b[0mar_10\u001b[0m\u001b[0;34m[\u001b[0m\u001b[0;34m'llh_Zhou_'\u001b[0m\u001b[0;34m]\u001b[0m\u001b[0;34m[\u001b[0m\u001b[0;34m~\u001b[0m\u001b[0mnp\u001b[0m\u001b[0;34m.\u001b[0m\u001b[0misnan\u001b[0m\u001b[0;34m(\u001b[0m\u001b[0mar_10\u001b[0m\u001b[0;34m[\u001b[0m\u001b[0;34m'llh_Zhou_'\u001b[0m\u001b[0;34m]\u001b[0m\u001b[0;34m)\u001b[0m\u001b[0;34m]\u001b[0m\u001b[0;34m)\u001b[0m\u001b[0;34m)\u001b[0m\u001b[0;34m\u001b[0m\u001b[0;34m\u001b[0m\u001b[0m\n\u001b[0m",
      "\u001b[0;32m~/anaconda3/lib/python3.7/site-packages/numpy/lib/npyio.py\u001b[0m in \u001b[0;36m__getitem__\u001b[0;34m(self, key)\u001b[0m\n\u001b[1;32m    264\u001b[0m                 \u001b[0;32mreturn\u001b[0m \u001b[0mself\u001b[0m\u001b[0;34m.\u001b[0m\u001b[0mzip\u001b[0m\u001b[0;34m.\u001b[0m\u001b[0mread\u001b[0m\u001b[0;34m(\u001b[0m\u001b[0mkey\u001b[0m\u001b[0;34m)\u001b[0m\u001b[0;34m\u001b[0m\u001b[0;34m\u001b[0m\u001b[0m\n\u001b[1;32m    265\u001b[0m         \u001b[0;32melse\u001b[0m\u001b[0;34m:\u001b[0m\u001b[0;34m\u001b[0m\u001b[0;34m\u001b[0m\u001b[0m\n\u001b[0;32m--> 266\u001b[0;31m             \u001b[0;32mraise\u001b[0m \u001b[0mKeyError\u001b[0m\u001b[0;34m(\u001b[0m\u001b[0;34m\"%s is not a file in the archive\"\u001b[0m \u001b[0;34m%\u001b[0m \u001b[0mkey\u001b[0m\u001b[0;34m)\u001b[0m\u001b[0;34m\u001b[0m\u001b[0;34m\u001b[0m\u001b[0m\n\u001b[0m\u001b[1;32m    267\u001b[0m \u001b[0;34m\u001b[0m\u001b[0m\n\u001b[1;32m    268\u001b[0m \u001b[0;34m\u001b[0m\u001b[0m\n",
      "\u001b[0;31mKeyError\u001b[0m: 'llh_EM__ is not a file in the archive'"
     ]
    }
   ],
   "source": [
    "print(np.mean(ar_max_renorm[ar_max_renorm < 1/np.finfo(float).eps]), np.mean(ar_10['llh_EM__']), np.mean(ar_10['llh_Zhou_'][~np.isnan(ar_10['llh_Zhou_'])]))"
   ]
  },
  {
   "cell_type": "code",
   "execution_count": 11,
   "metadata": {},
   "outputs": [
    {
     "data": {
      "text/plain": [
       "array([17620.74301708, 19752.44115666, 15590.4252797 , 17086.24613334,\n",
       "       19685.54982513,   122.26631168,   355.0469289 ,   568.86428325,\n",
       "         266.91092561])"
      ]
     },
     "execution_count": 11,
     "metadata": {},
     "output_type": "execute_result"
    }
   ],
   "source": [
    "ar_max_renorm[np.isfinite(ar_max_renorm[~np.isnan(ar_max_renorm)])]"
   ]
  },
  {
   "cell_type": "markdown",
   "metadata": {},
   "source": [
    "### Simulated Data"
   ]
  },
  {
   "cell_type": "code",
   "execution_count": 12,
   "metadata": {},
   "outputs": [
    {
     "name": "stderr",
     "output_type": "stream",
     "text": [
      "/home/rafael/anaconda3/lib/python3.7/site-packages/ipykernel_launcher.py:2: RuntimeWarning: invalid value encountered in greater\n",
      "  \n",
      "/home/rafael/anaconda3/lib/python3.7/site-packages/ipykernel_launcher.py:3: RuntimeWarning: invalid value encountered in greater\n",
      "  This is separate from the ipykernel package so we can avoid doing imports until\n"
     ]
    }
   ],
   "source": [
    "success_rate_exp = ar_renorm_exp > ar_exp\n",
    "success_rate_pwl = ar_renorm_pwl > ar_pwl\n",
    "success_rate_qexp = ar_renorm_qexp > ar_qexp\n",
    "success_rate_ray = ar_renorm_ray > ar_ray\n",
    "success_rate_gss = ar_renorm_gss > ar_gss\n",
    "\n",
    "success_rate_exp = success_rate_exp.reshape(n_of_kernels,-1)\n",
    "success_rate_pwl = success_rate_pwl.reshape(n_of_kernels,-1)\n",
    "success_rate_qexp = success_rate_qexp.reshape(n_of_kernels,-1)\n",
    "success_rate_ray = success_rate_ray.reshape(n_of_kernels,-1)\n",
    "success_rate_gss = success_rate_gss.reshape(n_of_kernels,-1)"
   ]
  },
  {
   "cell_type": "code",
   "execution_count": 13,
   "metadata": {},
   "outputs": [],
   "source": [
    "success_heatmap = np.array([[np.sum(success_rate_exp[i][~np.isnan(success_rate_exp[i])])/success_rate_exp.shape[1] for i in range(success_rate_exp.shape[0])],\n",
    "                           [np.sum(success_rate_pwl[i][~np.isnan(success_rate_pwl[i])])/success_rate_pwl.shape[1] for i in range(success_rate_pwl.shape[0])],\n",
    "                           [np.sum(success_rate_qexp[i][~np.isnan(success_rate_qexp[i])])/success_rate_qexp.shape[1] for i in range(success_rate_qexp.shape[0])],\n",
    "                           [np.sum(success_rate_ray[i][~np.isnan(success_rate_ray[i])])/success_rate_ray.shape[1] for i in range(success_rate_ray.shape[0])],\n",
    "                           [np.sum(success_rate_gss[i][~np.isnan(success_rate_gss[i])])/success_rate_gss.shape[1] for i in range(success_rate_gss.shape[0])]])"
   ]
  },
  {
   "cell_type": "code",
   "execution_count": 14,
   "metadata": {},
   "outputs": [],
   "source": [
    "success_heatmap_T500 = success_heatmap\n",
    "# success_heatmap"
   ]
  },
  {
   "cell_type": "code",
   "execution_count": 607,
   "metadata": {},
   "outputs": [
    {
     "data": {
      "image/png": "[encoded data removed]",
      "text/plain": [
       "<Figure size 1152x273.6 with 8 Axes>"
      ]
     },
     "metadata": {},
     "output_type": "display_data"
    }
   ],
   "source": [
    "# T\n",
    "fig, axs = plt.subplots(1,4,figsize=(16,3.8))\n",
    "axs[0] = sns.heatmap(success_heatmap_T10, ax=axs[0],xticklabels=['EXP','PWL','QEXP','RAY','GSS'], yticklabels=['EXP','PWL','QEXP','RAY','GSS'])\n",
    "axs[1] = sns.heatmap(success_heatmap_T50, ax=axs[1],xticklabels=['EXP','PWL','QEXP','RAY','GSS'], yticklabels=['EXP','PWL','QEXP','RAY','GSS'])\n",
    "axs[2] = sns.heatmap(success_heatmap_T100, ax=axs[2],xticklabels=['EXP','PWL','QEXP','RAY','GSS'], yticklabels=['EXP','PWL','QEXP','RAY','GSS'])\n",
    "axs[3] = sns.heatmap(success_heatmap_T500, ax=axs[3],xticklabels=['EXP','PWL','QEXP','RAY','GSS'], yticklabels=['EXP','PWL','QEXP','RAY','GSS'])\n",
    "axs[0].set_ylabel('Fitted Kernel')\n",
    "axs[0].set_xlabel('Simulated Kernel')\n",
    "axs[0].set_title(\"T = 10\")\n",
    "axs[1].set_xlabel('Simulated Kernel')\n",
    "axs[1].set_title(\"T = 50\")\n",
    "axs[2].set_xlabel('Simulated Kernel')\n",
    "axs[2].set_title(\"T = 100\")\n",
    "axs[3].set_xlabel('Simulated Kernel')\n",
    "axs[3].set_title(\"T = 500\")\n",
    "plt.tight_layout()\n",
    "plt.savefig(\"count_heatmaps.pdf\")"
   ]
  },
  {
   "cell_type": "code",
   "execution_count": 15,
   "metadata": {},
   "outputs": [
    {
     "ename": "NameError",
     "evalue": "name 'success_heatmap_M5' is not defined",
     "output_type": "error",
     "traceback": [
      "\u001b[0;31m---------------------------------------------------------------------------\u001b[0m",
      "\u001b[0;31mNameError\u001b[0m                                 Traceback (most recent call last)",
      "\u001b[0;32m<ipython-input-15-8c3c5f1f2e0e>\u001b[0m in \u001b[0;36m<module>\u001b[0;34m\u001b[0m\n\u001b[1;32m      1\u001b[0m \u001b[0;31m# M\u001b[0m\u001b[0;34m\u001b[0m\u001b[0;34m\u001b[0m\u001b[0;34m\u001b[0m\u001b[0m\n\u001b[1;32m      2\u001b[0m \u001b[0mfig\u001b[0m\u001b[0;34m,\u001b[0m \u001b[0maxs\u001b[0m \u001b[0;34m=\u001b[0m \u001b[0mplt\u001b[0m\u001b[0;34m.\u001b[0m\u001b[0msubplots\u001b[0m\u001b[0;34m(\u001b[0m\u001b[0;36m1\u001b[0m\u001b[0;34m,\u001b[0m\u001b[0;36m4\u001b[0m\u001b[0;34m,\u001b[0m\u001b[0mfigsize\u001b[0m\u001b[0;34m=\u001b[0m\u001b[0;34m(\u001b[0m\u001b[0;36m16\u001b[0m\u001b[0;34m,\u001b[0m\u001b[0;36m3.8\u001b[0m\u001b[0;34m)\u001b[0m\u001b[0;34m)\u001b[0m\u001b[0;34m\u001b[0m\u001b[0;34m\u001b[0m\u001b[0m\n\u001b[0;32m----> 3\u001b[0;31m \u001b[0maxs\u001b[0m\u001b[0;34m[\u001b[0m\u001b[0;36m0\u001b[0m\u001b[0;34m]\u001b[0m \u001b[0;34m=\u001b[0m \u001b[0msns\u001b[0m\u001b[0;34m.\u001b[0m\u001b[0mheatmap\u001b[0m\u001b[0;34m(\u001b[0m\u001b[0msuccess_heatmap_M5\u001b[0m\u001b[0;34m,\u001b[0m \u001b[0mcmap\u001b[0m\u001b[0;34m=\u001b[0m\u001b[0;34m\"YlGn_r\"\u001b[0m\u001b[0;34m,\u001b[0m \u001b[0max\u001b[0m\u001b[0;34m=\u001b[0m\u001b[0maxs\u001b[0m\u001b[0;34m[\u001b[0m\u001b[0;36m0\u001b[0m\u001b[0;34m]\u001b[0m\u001b[0;34m,\u001b[0m\u001b[0mxticklabels\u001b[0m\u001b[0;34m=\u001b[0m\u001b[0;34m[\u001b[0m\u001b[0;34m'EXP'\u001b[0m\u001b[0;34m,\u001b[0m\u001b[0;34m'PWL'\u001b[0m\u001b[0;34m,\u001b[0m\u001b[0;34m'QEXP'\u001b[0m\u001b[0;34m,\u001b[0m\u001b[0;34m'RAY'\u001b[0m\u001b[0;34m,\u001b[0m\u001b[0;34m'GSS'\u001b[0m\u001b[0;34m]\u001b[0m\u001b[0;34m,\u001b[0m \u001b[0myticklabels\u001b[0m\u001b[0;34m=\u001b[0m\u001b[0;34m[\u001b[0m\u001b[0;34m'EXP'\u001b[0m\u001b[0;34m,\u001b[0m\u001b[0;34m'PWL'\u001b[0m\u001b[0;34m,\u001b[0m\u001b[0;34m'QEXP'\u001b[0m\u001b[0;34m,\u001b[0m\u001b[0;34m'RAY'\u001b[0m\u001b[0;34m,\u001b[0m\u001b[0;34m'GSS'\u001b[0m\u001b[0;34m]\u001b[0m\u001b[0;34m)\u001b[0m\u001b[0;34m\u001b[0m\u001b[0;34m\u001b[0m\u001b[0m\n\u001b[0m\u001b[1;32m      4\u001b[0m \u001b[0maxs\u001b[0m\u001b[0;34m[\u001b[0m\u001b[0;36m1\u001b[0m\u001b[0;34m]\u001b[0m \u001b[0;34m=\u001b[0m \u001b[0msns\u001b[0m\u001b[0;34m.\u001b[0m\u001b[0mheatmap\u001b[0m\u001b[0;34m(\u001b[0m\u001b[0msuccess_heatmap_M9\u001b[0m\u001b[0;34m,\u001b[0m \u001b[0mcmap\u001b[0m\u001b[0;34m=\u001b[0m\u001b[0;34m\"YlGn_r\"\u001b[0m\u001b[0;34m,\u001b[0m \u001b[0max\u001b[0m\u001b[0;34m=\u001b[0m\u001b[0maxs\u001b[0m\u001b[0;34m[\u001b[0m\u001b[0;36m1\u001b[0m\u001b[0;34m]\u001b[0m\u001b[0;34m,\u001b[0m\u001b[0mxticklabels\u001b[0m\u001b[0;34m=\u001b[0m\u001b[0;34m[\u001b[0m\u001b[0;34m'EXP'\u001b[0m\u001b[0;34m,\u001b[0m\u001b[0;34m'PWL'\u001b[0m\u001b[0;34m,\u001b[0m\u001b[0;34m'QEXP'\u001b[0m\u001b[0;34m,\u001b[0m\u001b[0;34m'RAY'\u001b[0m\u001b[0;34m,\u001b[0m\u001b[0;34m'GSS'\u001b[0m\u001b[0;34m]\u001b[0m\u001b[0;34m,\u001b[0m \u001b[0myticklabels\u001b[0m\u001b[0;34m=\u001b[0m\u001b[0;34m[\u001b[0m\u001b[0;34m'EXP'\u001b[0m\u001b[0;34m,\u001b[0m\u001b[0;34m'PWL'\u001b[0m\u001b[0;34m,\u001b[0m\u001b[0;34m'QEXP'\u001b[0m\u001b[0;34m,\u001b[0m\u001b[0;34m'RAY'\u001b[0m\u001b[0;34m,\u001b[0m\u001b[0;34m'GSS'\u001b[0m\u001b[0;34m]\u001b[0m\u001b[0;34m)\u001b[0m\u001b[0;34m\u001b[0m\u001b[0;34m\u001b[0m\u001b[0m\n\u001b[1;32m      5\u001b[0m \u001b[0maxs\u001b[0m\u001b[0;34m[\u001b[0m\u001b[0;36m2\u001b[0m\u001b[0;34m]\u001b[0m \u001b[0;34m=\u001b[0m \u001b[0msns\u001b[0m\u001b[0;34m.\u001b[0m\u001b[0mheatmap\u001b[0m\u001b[0;34m(\u001b[0m\u001b[0msuccess_heatmap_M11\u001b[0m\u001b[0;34m,\u001b[0m \u001b[0mcmap\u001b[0m\u001b[0;34m=\u001b[0m\u001b[0;34m\"YlGn_r\"\u001b[0m\u001b[0;34m,\u001b[0m \u001b[0max\u001b[0m\u001b[0;34m=\u001b[0m\u001b[0maxs\u001b[0m\u001b[0;34m[\u001b[0m\u001b[0;36m2\u001b[0m\u001b[0;34m]\u001b[0m\u001b[0;34m,\u001b[0m\u001b[0mxticklabels\u001b[0m\u001b[0;34m=\u001b[0m\u001b[0;34m[\u001b[0m\u001b[0;34m'EXP'\u001b[0m\u001b[0;34m,\u001b[0m\u001b[0;34m'PWL'\u001b[0m\u001b[0;34m,\u001b[0m\u001b[0;34m'QEXP'\u001b[0m\u001b[0;34m,\u001b[0m\u001b[0;34m'RAY'\u001b[0m\u001b[0;34m,\u001b[0m\u001b[0;34m'GSS'\u001b[0m\u001b[0;34m]\u001b[0m\u001b[0;34m,\u001b[0m \u001b[0myticklabels\u001b[0m\u001b[0;34m=\u001b[0m\u001b[0;34m[\u001b[0m\u001b[0;34m'EXP'\u001b[0m\u001b[0;34m,\u001b[0m\u001b[0;34m'PWL'\u001b[0m\u001b[0;34m,\u001b[0m\u001b[0;34m'QEXP'\u001b[0m\u001b[0;34m,\u001b[0m\u001b[0;34m'RAY'\u001b[0m\u001b[0;34m,\u001b[0m\u001b[0;34m'GSS'\u001b[0m\u001b[0;34m]\u001b[0m\u001b[0;34m)\u001b[0m\u001b[0;34m\u001b[0m\u001b[0;34m\u001b[0m\u001b[0m\n",
      "\u001b[0;31mNameError\u001b[0m: name 'success_heatmap_M5' is not defined"
     ]
    },
    {
     "data": {
      "image/png": "[encoded data removed]",
      "text/plain": [
       "<Figure size 1152x273.6 with 4 Axes>"
      ]
     },
     "metadata": {},
     "output_type": "display_data"
    }
   ],
   "source": [
    "# M\n",
    "fig, axs = plt.subplots(1,4,figsize=(16,3.8))\n",
    "axs[0] = sns.heatmap(success_heatmap_M5, cmap=\"YlGn_r\", ax=axs[0],xticklabels=['EXP','PWL','QEXP','RAY','GSS'], yticklabels=['EXP','PWL','QEXP','RAY','GSS'])\n",
    "axs[1] = sns.heatmap(success_heatmap_M9, cmap=\"YlGn_r\", ax=axs[1],xticklabels=['EXP','PWL','QEXP','RAY','GSS'], yticklabels=['EXP','PWL','QEXP','RAY','GSS'])\n",
    "axs[2] = sns.heatmap(success_heatmap_M11, cmap=\"YlGn_r\", ax=axs[2],xticklabels=['EXP','PWL','QEXP','RAY','GSS'], yticklabels=['EXP','PWL','QEXP','RAY','GSS'])\n",
    "axs[3] = sns.heatmap(success_heatmap_M51, cmap=\"YlGn_r\", ax=axs[3],xticklabels=['EXP','PWL','QEXP','RAY','GSS'], yticklabels=['EXP','PWL','QEXP','RAY','GSS'])\n",
    "axs[0].set_ylabel('Fitted Kernel')\n",
    "axs[0].set_xlabel('Simulated Kernel')\n",
    "axs[0].set_title(\"M = 4\")\n",
    "axs[1].set_xlabel('Simulated Kernel')\n",
    "axs[1].set_title(\"M = 8\")\n",
    "axs[2].set_xlabel('Simulated Kernel')\n",
    "axs[2].set_title(\"M = 10\")\n",
    "axs[3].set_xlabel('Simulated Kernel')\n",
    "axs[3].set_title(\"M = 50\")\n",
    "plt.tight_layout()\n",
    "plt.savefig(\"count_heatmaps_M.pdf\")"
   ]
  },
  {
   "cell_type": "code",
   "execution_count": null,
   "metadata": {},
   "outputs": [],
   "source": [
    "# eps\n",
    "fig, axs = plt.subplots(1,4,figsize=(16,3.8))\n",
    "axs[0] = sns.heatmap(success_heatmap_eps00001, cmap=\"YlGnBu_r\", ax=axs[0],xticklabels=['EXP','PWL','QEXP','RAY','GSS'], yticklabels=['EXP','PWL','QEXP','RAY','GSS'])\n",
    "axs[1] = sns.heatmap(success_heatmap_eps0001, cmap=\"YlGnBu_r\", ax=axs[1],xticklabels=['EXP','PWL','QEXP','RAY','GSS'], yticklabels=['EXP','PWL','QEXP','RAY','GSS'])\n",
    "axs[2] = sns.heatmap(success_heatmap_eps001, cmap=\"YlGnBu_r\", ax=axs[2],xticklabels=['EXP','PWL','QEXP','RAY','GSS'], yticklabels=['EXP','PWL','QEXP','RAY','GSS'])\n",
    "axs[3] = sns.heatmap(success_heatmap_eps01, cmap=\"YlGnBu_r\", ax=axs[3],xticklabels=['EXP','PWL','QEXP','RAY','GSS'], yticklabels=['EXP','PWL','QEXP','RAY','GSS'])\n",
    "axs[0].set_ylabel('Fitted Kernel')\n",
    "axs[0].set_xlabel('Simulated Kernel')\n",
    "axs[0].set_title(\"eps = 0.0001\")\n",
    "axs[1].set_xlabel('Simulated Kernel')\n",
    "axs[1].set_title(\"eps = 0.001\")\n",
    "axs[2].set_xlabel('Simulated Kernel')\n",
    "axs[2].set_title(\"eps = 0.01\")\n",
    "axs[3].set_xlabel('Simulated Kernel')\n",
    "axs[3].set_title(\"eps = 0.1\")\n",
    "plt.tight_layout()\n",
    "plt.savefig(\"count_heatmaps_eps.pdf\")"
   ]
  },
  {
   "cell_type": "code",
   "execution_count": null,
   "metadata": {},
   "outputs": [],
   "source": []
  }
 ],
 "metadata": {
  "kernelspec": {
   "display_name": "Python 3",
   "language": "python",
   "name": "python3"
  },
  "language_info": {
   "codemirror_mode": {
    "name": "ipython",
    "version": 3
   },
   "file_extension": ".py",
   "mimetype": "text/x-python",
   "name": "python",
   "nbconvert_exporter": "python",
   "pygments_lexer": "ipython3",
   "version": "3.7.6"
  }
 },
 "nbformat": 4,
 "nbformat_minor": 4
}
